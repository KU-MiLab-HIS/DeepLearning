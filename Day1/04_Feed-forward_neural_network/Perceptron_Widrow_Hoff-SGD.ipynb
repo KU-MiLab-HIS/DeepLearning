{
 "cells": [
  {
   "cell_type": "code",
   "execution_count": 1,
   "metadata": {
    "collapsed": true
   },
   "outputs": [],
   "source": [
    "import numpy as np"
   ]
  },
  {
   "cell_type": "code",
   "execution_count": 2,
   "metadata": {
    "collapsed": false
   },
   "outputs": [],
   "source": [
    "import pandas as pd\n",
    "df = pd.read_csv('https://archive.ics.uci.edu/ml/machine-learning-databases/iris/iris.data', header=None)"
   ]
  },
  {
   "cell_type": "code",
   "execution_count": 3,
   "metadata": {
    "collapsed": false
   },
   "outputs": [
    {
     "data": {
      "text/html": [
       "<div>\n",
       "<style>\n",
       "    .dataframe thead tr:only-child th {\n",
       "        text-align: right;\n",
       "    }\n",
       "\n",
       "    .dataframe thead th {\n",
       "        text-align: left;\n",
       "    }\n",
       "\n",
       "    .dataframe tbody tr th {\n",
       "        vertical-align: top;\n",
       "    }\n",
       "</style>\n",
       "<table border=\"1\" class=\"dataframe\">\n",
       "  <thead>\n",
       "    <tr style=\"text-align: right;\">\n",
       "      <th></th>\n",
       "      <th>0</th>\n",
       "      <th>1</th>\n",
       "      <th>2</th>\n",
       "      <th>3</th>\n",
       "      <th>4</th>\n",
       "    </tr>\n",
       "  </thead>\n",
       "  <tbody>\n",
       "    <tr>\n",
       "      <th>145</th>\n",
       "      <td>6.7</td>\n",
       "      <td>3.0</td>\n",
       "      <td>5.2</td>\n",
       "      <td>2.3</td>\n",
       "      <td>Iris-virginica</td>\n",
       "    </tr>\n",
       "    <tr>\n",
       "      <th>146</th>\n",
       "      <td>6.3</td>\n",
       "      <td>2.5</td>\n",
       "      <td>5.0</td>\n",
       "      <td>1.9</td>\n",
       "      <td>Iris-virginica</td>\n",
       "    </tr>\n",
       "    <tr>\n",
       "      <th>147</th>\n",
       "      <td>6.5</td>\n",
       "      <td>3.0</td>\n",
       "      <td>5.2</td>\n",
       "      <td>2.0</td>\n",
       "      <td>Iris-virginica</td>\n",
       "    </tr>\n",
       "    <tr>\n",
       "      <th>148</th>\n",
       "      <td>6.2</td>\n",
       "      <td>3.4</td>\n",
       "      <td>5.4</td>\n",
       "      <td>2.3</td>\n",
       "      <td>Iris-virginica</td>\n",
       "    </tr>\n",
       "    <tr>\n",
       "      <th>149</th>\n",
       "      <td>5.9</td>\n",
       "      <td>3.0</td>\n",
       "      <td>5.1</td>\n",
       "      <td>1.8</td>\n",
       "      <td>Iris-virginica</td>\n",
       "    </tr>\n",
       "  </tbody>\n",
       "</table>\n",
       "</div>"
      ],
      "text/plain": [
       "       0    1    2    3               4\n",
       "145  6.7  3.0  5.2  2.3  Iris-virginica\n",
       "146  6.3  2.5  5.0  1.9  Iris-virginica\n",
       "147  6.5  3.0  5.2  2.0  Iris-virginica\n",
       "148  6.2  3.4  5.4  2.3  Iris-virginica\n",
       "149  5.9  3.0  5.1  1.8  Iris-virginica"
      ]
     },
     "execution_count": 3,
     "metadata": {},
     "output_type": "execute_result"
    }
   ],
   "source": [
    "df.tail()"
   ]
  },
  {
   "cell_type": "code",
   "execution_count": 4,
   "metadata": {
    "collapsed": true
   },
   "outputs": [],
   "source": [
    "import matplotlib.pyplot as plt\n",
    "%matplotlib inline"
   ]
  },
  {
   "cell_type": "code",
   "execution_count": 5,
   "metadata": {
    "collapsed": false
   },
   "outputs": [
    {
     "data": {
      "image/png": "[encoded data removed]",
      "text/plain": [
       "<matplotlib.figure.Figure at 0x10c6befd0>"
      ]
     },
     "metadata": {},
     "output_type": "display_data"
    }
   ],
   "source": [
    "y = df.iloc[0:100,4].values\n",
    "y = np.where( y=='Iris-setosa', -1, 1 )\n",
    "X = df.iloc[0:100, [0,2]].values\n",
    "plt.scatter(X[:50, 0], X[:50, 1], color='red', marker='o', label='setosa')\n",
    "plt.scatter(X[50:100, 0], X[50:100, 1], color='blue', marker='x', label='versicolor')\n",
    "plt.xlabel('Petal Length')\n",
    "plt.ylabel('Sepal Length')\n",
    "plt.legend(loc='upper left')\n",
    "plt.show()"
   ]
  },
  {
   "cell_type": "code",
   "execution_count": 76,
   "metadata": {
    "collapsed": false
   },
   "outputs": [],
   "source": [
    "#     ADAptive LInear NEuron (ADALINE) by Bernard Widrow and Tedd Hoff \n",
    "#     Illustrates the key concept of defining and minimizing cost functions, \n",
    "#     which will lay the ground work for understanding more advanced machine learning algorithms for classification, \n",
    "#     such as logistic regression and support vector machines, etc.\n",
    "\n",
    "#     Key difference between Widrow-Hoff rule and Rosenblatt's Perceptron is that\n",
    "#     the weights are updated based on a linear activation function rather than a unit step function\n",
    "#     i.e., [1 x] * weights - sum - linear activation - (compute errors) - quantizer - output\n",
    "\n",
    "#     Compared to Rosenblatt's Perceptron, in ADALINE, the weight update is calculated based on all samples\n",
    "#     in the training set (instead of updating the weights incrementally after each sample),\n",
    "#     which is why this approach is also referred to as \"batch\" gradient descent.\n",
    "class AdalineSGD(object):\n",
    "    \"\"\"\n",
    "    Parameters: eta, num_iter\n",
    "    Attributes: weights, errors, shuffle(bool), random_state(int)\n",
    "    \"\"\"\n",
    "    \n",
    "    def __init__(self, eta=0.01, num_iter=10, bShuffle=True, random_state=None, minibatch_size=10):\n",
    "        self.eta = eta\n",
    "        self.num_iter = num_iter\n",
    "        self.weights_initialized = False\n",
    "        self.bShuffle = bShuffle\n",
    "        self.minibatch_size = minibatch_size\n",
    "        if random_state:\n",
    "            np.random.seed(random_state)\n",
    "        \n",
    "    def train(self, X, y):\n",
    "        \"\"\"\n",
    "        X: {array-like}, shape=[num_samples, num_features]\n",
    "        y: {array-like}, shape=[num_samples]\n",
    "        \"\"\"\n",
    "        self.initialize_weights(X.shape[1])\n",
    "        self.cost = []\n",
    "        \n",
    "        for i in range(self.num_iter):\n",
    "            if self.shuffle:\n",
    "                X, y = self.shuffle(X, y)\n",
    "            cost = []\n",
    "            \n",
    "            for i in range(0, X.shape[0], self.minibatch_size):\n",
    "                if (i+self.minibatch_size) <= X.shape[0]:\n",
    "                    xi = X[i:i+self.minibatch_size]\n",
    "                    target = y[i:i+self.minibatch_size]\n",
    "                else:\n",
    "                    xi = X[i:]\n",
    "                    target = y[i:]\n",
    "                cost.append(self.update_weights(xi, target))\n",
    "            avg_cost = sum(cost)/len(y)\n",
    "            self.cost.append(avg_cost)\n",
    "            \n",
    "        return self\n",
    "                \n",
    "    def partial_train(self, X, y):\n",
    "        if not self.weights_initialized:\n",
    "            self.initialize_weights(X.shape[1])\n",
    "        if y.ravel().shape[0] > 1:\n",
    "            for xi, target in zip(X, y):\n",
    "                self.update_weights(xi, target)\n",
    "        else:\n",
    "            self.update_weights(X, y)\n",
    "        return self\n",
    "    \n",
    "    def shuffle(self, X, y):\n",
    "        r = np.random.permutation(len(y))\n",
    "        return X[r], y[r]\n",
    "    \n",
    "    def initialize_weights(self, m):\n",
    "        self.weights = np.zeros(1+m)\n",
    "        self.weights_initialized = True\n",
    "        \n",
    "    def update_weights(self, X, y):\n",
    "        grad = np.zeros(self.weights.shape)\n",
    "        errors = 0\n",
    "        for xi, target in zip(X, y):\n",
    "            output = self.net_input(xi)\n",
    "            error = (target - output)\n",
    "            grad[1:] += xi.dot(error)\n",
    "            grad[0] += error\n",
    "            errors += error\n",
    "            \n",
    "        self.weights[1:] += self.eta * grad[1:]\n",
    "        self.weights[0] += self.eta * grad[0]\n",
    "        cost = 0.5 * errors**2\n",
    "        return cost\n",
    "        \n",
    "    def net_input(self, X):\n",
    "        return np.dot(X, self.weights[1:]) + self.weights[0]\n",
    "    \n",
    "    def activation(self, X):\n",
    "        return self.net_input(X)\n",
    "    \n",
    "    def predict(self, X):\n",
    "        return np.where(self.activation(X) >= 0.0, 1, -1)"
   ]
  },
  {
   "cell_type": "code",
   "execution_count": 77,
   "metadata": {
    "collapsed": true
   },
   "outputs": [],
   "source": [
    "from matplotlib.colors import ListedColormap\n",
    "\n",
    "def plot_decision_regions(X, y, classifier, resolution=0.02):\n",
    "    # setup marker generator and color map\n",
    "    markers = ('s', 'x', 'o', '^', 'v')\n",
    "    colors = ('red', 'blue', 'lightgreen', 'gray', 'cyan')\n",
    "    cmap = ListedColormap(colors[:len(np.unique(y))])\n",
    "    \n",
    "    # plot the decision surface\n",
    "    x1_min, x1_max = X[:,0].min() - 1, X[:,0].max()+1\n",
    "    x2_min, x2_max = X[:,1].min() - 1, X[:,1].max()+1\n",
    "    \n",
    "    xx1, xx2 = np.meshgrid(np.arange(x1_min, x1_max, resolution), np.arange(x2_min, x2_max, resolution))\n",
    "    Z = classifier.predict(np.array([xx1.ravel(), xx2.ravel()]).T)\n",
    "    Z = Z.reshape(xx1.shape)\n",
    "    plt.contourf(xx1, xx2, Z, alpha=0.4, cmap=cmap)\n",
    "    plt.xlim(xx1.min(), xx1.max())\n",
    "    plt.ylim(xx2.min(), xx2.max())\n",
    "    \n",
    "    # plot class samples\n",
    "    for idx, c1 in enumerate(np.unique(y)):\n",
    "        plt.scatter(x=X[y==c1,0], y=X[y==c1,1], alpha=0.8, c=cmap(idx), marker=markers[idx], label=c1)"
   ]
  },
  {
   "cell_type": "code",
   "execution_count": 79,
   "metadata": {
    "collapsed": false
   },
   "outputs": [
    {
     "data": {
      "image/png": "[encoded data removed]",
      "text/plain": [
       "<matplotlib.figure.Figure at 0x111bd9210>"
      ]
     },
     "metadata": {},
     "output_type": "display_data"
    },
    {
     "data": {
      "image/png": "[encoded data removed]",
      "text/plain": [
       "<matplotlib.figure.Figure at 0x112387e50>"
      ]
     },
     "metadata": {},
     "output_type": "display_data"
    }
   ],
   "source": [
    "# Benefitting from Standardization\n",
    "sX = np.copy(X)\n",
    "sX[:,0] = (X[:,0]-X[:,0].mean())/X[:,0].std()\n",
    "sX[:,1] = (X[:,1]-X[:,1].mean())/X[:,1].std()\n",
    "\n",
    "classifier1 = AdalineSGD(eta=0.01, num_iter=15, random_state=1, minibatch_size=1)\n",
    "classifier1.train(sX, y)\n",
    "\n",
    "plot_decision_regions(sX, y, classifier=classifier1)\n",
    "plt.title('Adaline - Stochastic Gradient Descent')\n",
    "plt.xlabel('Sepal Length [Standardized]')\n",
    "plt.ylabel('Petal Length [Standardized]')\n",
    "plt.legend(loc='upper left')\n",
    "plt.show()\n",
    "\n",
    "plt.plot(range(1,len(classifier1.cost)+1), classifier1.cost, marker='o')\n",
    "plt.xlabel('Epochs')\n",
    "plt.ylabel('Average Cost')\n",
    "plt.show()"
   ]
  },
  {
   "cell_type": "code",
   "execution_count": 80,
   "metadata": {
    "collapsed": false
   },
   "outputs": [
    {
     "data": {
      "image/png": "[encoded data removed]",
      "text/plain": [
       "<matplotlib.figure.Figure at 0x11179b0d0>"
      ]
     },
     "metadata": {},
     "output_type": "display_data"
    },
    {
     "data": {
      "image/png": "[encoded data removed]",
      "text/plain": [
       "<matplotlib.figure.Figure at 0x112024f90>"
      ]
     },
     "metadata": {},
     "output_type": "display_data"
    }
   ],
   "source": [
    "# Benefitting from Standardization\n",
    "sX = np.copy(X)\n",
    "sX[:,0] = (X[:,0]-X[:,0].mean())/X[:,0].std()\n",
    "sX[:,1] = (X[:,1]-X[:,1].mean())/X[:,1].std()\n",
    "\n",
    "classifier2 = AdalineSGD(eta=0.01, num_iter=15, random_state=1, minibatch_size=10)\n",
    "classifier2.train(sX, y)\n",
    "\n",
    "plot_decision_regions(sX, y, classifier=classifier2)\n",
    "plt.title('Adaline - Stochastic Gradient Descent')\n",
    "plt.xlabel('Sepal Length [Standardized]')\n",
    "plt.ylabel('Petal Length [Standardized]')\n",
    "plt.legend(loc='upper left')\n",
    "plt.show()\n",
    "\n",
    "plt.plot(range(1,len(classifier2.cost)+1), classifier2.cost, marker='o')\n",
    "plt.xlabel('Epochs')\n",
    "plt.ylabel('Average Cost')\n",
    "plt.show()"
   ]
  },
  {
   "cell_type": "code",
   "execution_count": 83,
   "metadata": {
    "collapsed": false
   },
   "outputs": [
    {
     "name": "stdout",
     "output_type": "stream",
     "text": [
      "[[ 4.9  1.4]\n",
      " [ 4.7  1.3]\n",
      " [ 4.6  1.5]\n",
      " [ 5.   1.4]]\n"
     ]
    }
   ],
   "source": [
    "print X[1:5]"
   ]
  },
  {
   "cell_type": "code",
   "execution_count": null,
   "metadata": {
    "collapsed": true
   },
   "outputs": [],
   "source": []
  }
 ],
 "metadata": {
  "kernelspec": {
   "display_name": "Python 2",
   "language": "python",
   "name": "python2"
  },
  "language_info": {
   "codemirror_mode": {
    "name": "ipython",
    "version": 2
   },
   "file_extension": ".py",
   "mimetype": "text/x-python",
   "name": "python",
   "nbconvert_exporter": "python",
   "pygments_lexer": "ipython2",
   "version": "2.7.12"
  }
 },
 "nbformat": 4,
 "nbformat_minor": 1
}
